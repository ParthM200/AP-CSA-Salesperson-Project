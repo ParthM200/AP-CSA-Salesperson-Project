{
  "nbformat": 4,
  "nbformat_minor": 0,
  "metadata": {
    "colab": {
      "provenance": [],
      "include_colab_link": true
    },
    "kernelspec": {
      "name": "python3",
      "display_name": "Python 3"
    },
    "language_info": {
      "name": "python"
    }
  },
  "cells": [
    {
      "cell_type": "markdown",
      "metadata": {
        "id": "view-in-github",
        "colab_type": "text"
      },
      "source": [
        "<a href=\"https://colab.research.google.com/github/ParthM200/AP-CSA-Salesperson-Project/blob/main/Parth_and_Jugal_AP_FRQ_Grader.ipynb\" target=\"_parent\"><img src=\"https://colab.research.google.com/assets/colab-badge.svg\" alt=\"Open In Colab\"/></a>"
      ]
    },
    {
      "cell_type": "code",
      "execution_count": null,
      "metadata": {
        "colab": {
          "base_uri": "https://localhost:8080/",
          "height": 1000
        },
        "id": "c-BMq19fITcL",
        "outputId": "d7dc9f8b-115d-4fbe-8c35-5e4726914fc0"
      },
      "outputs": [
        {
          "output_type": "stream",
          "name": "stdout",
          "text": [
            "Requirement already satisfied: torch in /usr/local/lib/python3.10/dist-packages (2.3.0+cu121)\n",
            "Requirement already satisfied: transformers in /usr/local/lib/python3.10/dist-packages (4.41.2)\n",
            "Collecting PyPDF2\n",
            "  Downloading pypdf2-3.0.1-py3-none-any.whl (232 kB)\n",
            "\u001b[2K     \u001b[90m━━━━━━━━━━━━━━━━━━━━━━━━━━━━━━━━━━━━━━━━\u001b[0m \u001b[32m232.6/232.6 kB\u001b[0m \u001b[31m1.5 MB/s\u001b[0m eta \u001b[36m0:00:00\u001b[0m\n",
            "\u001b[?25hRequirement already satisfied: numpy in /usr/local/lib/python3.10/dist-packages (1.25.2)\n",
            "Requirement already satisfied: scikit-learn in /usr/local/lib/python3.10/dist-packages (1.2.2)\n",
            "Requirement already satisfied: filelock in /usr/local/lib/python3.10/dist-packages (from torch) (3.15.4)\n",
            "Requirement already satisfied: typing-extensions>=4.8.0 in /usr/local/lib/python3.10/dist-packages (from torch) (4.12.2)\n",
            "Requirement already satisfied: sympy in /usr/local/lib/python3.10/dist-packages (from torch) (1.12.1)\n",
            "Requirement already satisfied: networkx in /usr/local/lib/python3.10/dist-packages (from torch) (3.3)\n",
            "Requirement already satisfied: jinja2 in /usr/local/lib/python3.10/dist-packages (from torch) (3.1.4)\n",
            "Requirement already satisfied: fsspec in /usr/local/lib/python3.10/dist-packages (from torch) (2023.6.0)\n",
            "Collecting nvidia-cuda-nvrtc-cu12==12.1.105 (from torch)\n",
            "  Using cached nvidia_cuda_nvrtc_cu12-12.1.105-py3-none-manylinux1_x86_64.whl (23.7 MB)\n",
            "Collecting nvidia-cuda-runtime-cu12==12.1.105 (from torch)\n",
            "  Using cached nvidia_cuda_runtime_cu12-12.1.105-py3-none-manylinux1_x86_64.whl (823 kB)\n",
            "Collecting nvidia-cuda-cupti-cu12==12.1.105 (from torch)\n",
            "  Using cached nvidia_cuda_cupti_cu12-12.1.105-py3-none-manylinux1_x86_64.whl (14.1 MB)\n",
            "Collecting nvidia-cudnn-cu12==8.9.2.26 (from torch)\n",
            "  Using cached nvidia_cudnn_cu12-8.9.2.26-py3-none-manylinux1_x86_64.whl (731.7 MB)\n",
            "Collecting nvidia-cublas-cu12==12.1.3.1 (from torch)\n",
            "  Using cached nvidia_cublas_cu12-12.1.3.1-py3-none-manylinux1_x86_64.whl (410.6 MB)\n",
            "Collecting nvidia-cufft-cu12==11.0.2.54 (from torch)\n",
            "  Using cached nvidia_cufft_cu12-11.0.2.54-py3-none-manylinux1_x86_64.whl (121.6 MB)\n",
            "Collecting nvidia-curand-cu12==10.3.2.106 (from torch)\n",
            "  Using cached nvidia_curand_cu12-10.3.2.106-py3-none-manylinux1_x86_64.whl (56.5 MB)\n",
            "Collecting nvidia-cusolver-cu12==11.4.5.107 (from torch)\n",
            "  Using cached nvidia_cusolver_cu12-11.4.5.107-py3-none-manylinux1_x86_64.whl (124.2 MB)\n",
            "Collecting nvidia-cusparse-cu12==12.1.0.106 (from torch)\n",
            "  Using cached nvidia_cusparse_cu12-12.1.0.106-py3-none-manylinux1_x86_64.whl (196.0 MB)\n",
            "Collecting nvidia-nccl-cu12==2.20.5 (from torch)\n",
            "  Using cached nvidia_nccl_cu12-2.20.5-py3-none-manylinux2014_x86_64.whl (176.2 MB)\n",
            "Collecting nvidia-nvtx-cu12==12.1.105 (from torch)\n",
            "  Using cached nvidia_nvtx_cu12-12.1.105-py3-none-manylinux1_x86_64.whl (99 kB)\n",
            "Requirement already satisfied: triton==2.3.0 in /usr/local/lib/python3.10/dist-packages (from torch) (2.3.0)\n",
            "Collecting nvidia-nvjitlink-cu12 (from nvidia-cusolver-cu12==11.4.5.107->torch)\n",
            "  Downloading nvidia_nvjitlink_cu12-12.5.82-py3-none-manylinux2014_x86_64.whl (21.3 MB)\n",
            "\u001b[2K     \u001b[90m━━━━━━━━━━━━━━━━━━━━━━━━━━━━━━━━━━━━━━━━\u001b[0m \u001b[32m21.3/21.3 MB\u001b[0m \u001b[31m38.9 MB/s\u001b[0m eta \u001b[36m0:00:00\u001b[0m\n",
            "\u001b[?25hRequirement already satisfied: huggingface-hub<1.0,>=0.23.0 in /usr/local/lib/python3.10/dist-packages (from transformers) (0.23.4)\n",
            "Requirement already satisfied: packaging>=20.0 in /usr/local/lib/python3.10/dist-packages (from transformers) (24.1)\n",
            "Requirement already satisfied: pyyaml>=5.1 in /usr/local/lib/python3.10/dist-packages (from transformers) (6.0.1)\n",
            "Requirement already satisfied: regex!=2019.12.17 in /usr/local/lib/python3.10/dist-packages (from transformers) (2024.5.15)\n",
            "Requirement already satisfied: requests in /usr/local/lib/python3.10/dist-packages (from transformers) (2.31.0)\n",
            "Requirement already satisfied: tokenizers<0.20,>=0.19 in /usr/local/lib/python3.10/dist-packages (from transformers) (0.19.1)\n",
            "Requirement already satisfied: safetensors>=0.4.1 in /usr/local/lib/python3.10/dist-packages (from transformers) (0.4.3)\n",
            "Requirement already satisfied: tqdm>=4.27 in /usr/local/lib/python3.10/dist-packages (from transformers) (4.66.4)\n",
            "Requirement already satisfied: scipy>=1.3.2 in /usr/local/lib/python3.10/dist-packages (from scikit-learn) (1.11.4)\n",
            "Requirement already satisfied: joblib>=1.1.1 in /usr/local/lib/python3.10/dist-packages (from scikit-learn) (1.4.2)\n",
            "Requirement already satisfied: threadpoolctl>=2.0.0 in /usr/local/lib/python3.10/dist-packages (from scikit-learn) (3.5.0)\n",
            "Requirement already satisfied: MarkupSafe>=2.0 in /usr/local/lib/python3.10/dist-packages (from jinja2->torch) (2.1.5)\n",
            "Requirement already satisfied: charset-normalizer<4,>=2 in /usr/local/lib/python3.10/dist-packages (from requests->transformers) (3.3.2)\n",
            "Requirement already satisfied: idna<4,>=2.5 in /usr/local/lib/python3.10/dist-packages (from requests->transformers) (3.7)\n",
            "Requirement already satisfied: urllib3<3,>=1.21.1 in /usr/local/lib/python3.10/dist-packages (from requests->transformers) (2.0.7)\n",
            "Requirement already satisfied: certifi>=2017.4.17 in /usr/local/lib/python3.10/dist-packages (from requests->transformers) (2024.6.2)\n",
            "Requirement already satisfied: mpmath<1.4.0,>=1.1.0 in /usr/local/lib/python3.10/dist-packages (from sympy->torch) (1.3.0)\n",
            "Installing collected packages: PyPDF2, nvidia-nvtx-cu12, nvidia-nvjitlink-cu12, nvidia-nccl-cu12, nvidia-curand-cu12, nvidia-cufft-cu12, nvidia-cuda-runtime-cu12, nvidia-cuda-nvrtc-cu12, nvidia-cuda-cupti-cu12, nvidia-cublas-cu12, nvidia-cusparse-cu12, nvidia-cudnn-cu12, nvidia-cusolver-cu12\n",
            "Successfully installed PyPDF2-3.0.1 nvidia-cublas-cu12-12.1.3.1 nvidia-cuda-cupti-cu12-12.1.105 nvidia-cuda-nvrtc-cu12-12.1.105 nvidia-cuda-runtime-cu12-12.1.105 nvidia-cudnn-cu12-8.9.2.26 nvidia-cufft-cu12-11.0.2.54 nvidia-curand-cu12-10.3.2.106 nvidia-cusolver-cu12-11.4.5.107 nvidia-cusparse-cu12-12.1.0.106 nvidia-nccl-cu12-2.20.5 nvidia-nvjitlink-cu12-12.5.82 nvidia-nvtx-cu12-12.1.105\n"
          ]
        },
        {
          "output_type": "error",
          "ename": "FileNotFoundError",
          "evalue": "The specified file path does not exist.",
          "traceback": [
            "\u001b[0;31m---------------------------------------------------------------------------\u001b[0m",
            "\u001b[0;31mFileNotFoundError\u001b[0m                         Traceback (most recent call last)",
            "\u001b[0;32m<ipython-input-1-592265e4dee3>\u001b[0m in \u001b[0;36m<cell line: 66>\u001b[0;34m()\u001b[0m\n\u001b[1;32m     66\u001b[0m \u001b[0;32mfor\u001b[0m \u001b[0mpdf_file_path\u001b[0m \u001b[0;32min\u001b[0m \u001b[0mpdf_file_paths\u001b[0m\u001b[0;34m:\u001b[0m\u001b[0;34m\u001b[0m\u001b[0;34m\u001b[0m\u001b[0m\n\u001b[1;32m     67\u001b[0m     \u001b[0;32mif\u001b[0m \u001b[0;32mnot\u001b[0m \u001b[0mos\u001b[0m\u001b[0;34m.\u001b[0m\u001b[0mpath\u001b[0m\u001b[0;34m.\u001b[0m\u001b[0mexists\u001b[0m\u001b[0;34m(\u001b[0m\u001b[0mpdf_file_path\u001b[0m\u001b[0;34m)\u001b[0m\u001b[0;34m:\u001b[0m\u001b[0;34m\u001b[0m\u001b[0;34m\u001b[0m\u001b[0m\n\u001b[0;32m---> 68\u001b[0;31m         \u001b[0;32mraise\u001b[0m \u001b[0mFileNotFoundError\u001b[0m\u001b[0;34m(\u001b[0m\u001b[0;34m\"The specified file path does not exist.\"\u001b[0m\u001b[0;34m)\u001b[0m\u001b[0;34m\u001b[0m\u001b[0;34m\u001b[0m\u001b[0m\n\u001b[0m\u001b[1;32m     69\u001b[0m     \u001b[0;32melse\u001b[0m\u001b[0;34m:\u001b[0m\u001b[0;34m\u001b[0m\u001b[0;34m\u001b[0m\u001b[0m\n\u001b[1;32m     70\u001b[0m         \u001b[0mpdf_text\u001b[0m \u001b[0;34m=\u001b[0m \u001b[0mread_pdf\u001b[0m\u001b[0;34m(\u001b[0m\u001b[0mpdf_file_path\u001b[0m\u001b[0;34m)\u001b[0m\u001b[0;34m\u001b[0m\u001b[0;34m\u001b[0m\u001b[0m\n",
            "\u001b[0;31mFileNotFoundError\u001b[0m: The specified file path does not exist."
          ]
        }
      ],
      "source": [
        "!pip install torch transformers PyPDF2 numpy scikit-learn\n",
        "\n",
        "import torch\n",
        "from transformers import BertTokenizer, BertModel\n",
        "import numpy as np\n",
        "from PyPDF2 import PdfReader\n",
        "from sklearn.metrics.pairwise import cosine_similarity\n",
        "import os\n",
        "\n",
        "\n",
        "def read_pdf(file_path):\n",
        "    reader = PdfReader(file_path)\n",
        "    text = ''\n",
        "    for page in reader.pages:\n",
        "        text += page.extract_text() + \"\\n\"\n",
        "    return text\n",
        "\n",
        "def parse_responses(pdf_text):\n",
        "    # Implement the actual parsing logic based on your PDF structure\n",
        "    # * Write out how each question is labeled as (Ex. 4a, 4b, 4c, etc.)\n",
        "    responses = {1: \"(a)\", 2: \"(c)\"}\n",
        "    return responses\n",
        "\n",
        "def get_bert_embeddings(text):\n",
        "    tokenizer = BertTokenizer.from_pretrained('bert-base-uncased')\n",
        "    model = BertModel.from_pretrained('bert-base-uncased')\n",
        "    inputs = tokenizer(text, return_tensors=\"pt\", padding=True, truncation=True)\n",
        "    with torch.no_grad():\n",
        "        outputs = model(**inputs)\n",
        "    embeddings = outputs.last_hidden_state[0].mean(dim=0).numpy()\n",
        "    return embeddings\n",
        "\n",
        "def grade_response(question_response, sample_responses, question_number):\n",
        "    question_embedding = get_bert_embeddings(question_response)\n",
        "    sample_embeddings = [get_bert_embeddings(sample_response) for sample_response, _ in sample_responses[question_number]]\n",
        "\n",
        "    sample_embedding = np.array(sample_embeddings)\n",
        "    sample_embedding = sample_embedding.reshape(-1, sample_embedding.shape[-1])\n",
        "\n",
        "    question_embedding = question_embedding.reshape(-1, question_embedding.shape[-1])\n",
        "\n",
        "    similarities = [cosine_similarity([question_embedding.flatten()], [sample_embedding.flatten()])[0][0] for sample_embedding in sample_embeddings]\n",
        "    max_index = np.argmax(similarities)\n",
        "    return sample_responses[question_number][max_index][1]\n",
        "\n",
        "\n",
        "# Define individual rubrics for each question.\n",
        "\n",
        "#* Make a rubric for each question here and the point value it would receive\n",
        "rubrics = {\n",
        "    1: {1: \"The response indicates that the inner membranes permit different reactions to occur in different regions of the organelles.\", 0: \"The response does not indicate that the inner membranes permit different reactions to occur in different regions of the organelles.\"},\n",
        "    2: {1: \"The response indicates that the folding increases surface area so that the membrane can hold more enzymes, and more reactions (e.g., production) can take place than if less surface area was present.\", 0: \"The response does not indicate that the folding increases surface area so that the membrane can hold more enzymes, and more reactions (e.g., production) can take place than if less surface area was present).\"}\n",
        "}\n",
        "\n",
        "# * Input the student responses and the scores they received below\n",
        "sample_responses = {\n",
        "    1: [(\"The membranes that separate the different regions of the mitochondria and chloroplast are important because they help to separate the enzymes of these organelles so that they don't interfere with the other reactions inside the cell.\", 1),\n",
        "         (\"The inner membranes of energy-producing organelles such as the mitochondria in Animal cells and the chloroplasts in plant cells are important for cellular processes because they produce ATP which powers the cell, essentially powering the body.\", 0)],\n",
        "    2: [(\"The folding of the mitochondrial inner membrane and thylakoids are beneficial to the cell carrying out chemical reactions because these folds help to increase the size of the cell and increase the SA: VA Ratio and thus help improve the rate at which the chemical reactions take place.\", 1),\n",
        "         (\"This is beneficial to cells carrying out chemical reactions because the inner membranes of power-producing organelles help power those chemical reactions. Without the inner membranes functioning all processes would cease. \", 0)],\n",
        "}\n",
        "\n",
        "# List of document paths\n",
        "pdf_file_paths = [\"/content/AP Bio FRQ Assignment\"]\n",
        "\n",
        "for pdf_file_path in pdf_file_paths:\n",
        "    if not os.path.exists(pdf_file_path):\n",
        "        raise FileNotFoundError(\"The specified file path does not exist.\")\n",
        "    else:\n",
        "        pdf_text = read_pdf(pdf_file_path)\n",
        "        parsed_responses = parse_responses(pdf_text)\n",
        "\n",
        "        graded_responses = {}\n",
        "        for question_number, response_text in parsed_responses.items():\n",
        "            # Ensure that the correct sample_responses are used for each question\n",
        "            sample_responses_for_question = sample_responses.get(question_number, [])\n",
        "            grade = grade_response(response_text, sample_responses_for_question, question_number)\n",
        "            graded_responses[question_number] = (grade, rubrics[question_number][grade])\n",
        "\n",
        "        print(f\"Graded Responses for {pdf_file_path}:\")\n",
        "        for question_number, (grade, description) in graded_responses.items():\n",
        "            print(f\"Question {question_number}: Grade {grade}, {description}\")"
      ]
    },
    {
      "source": [
        "sample_responses = {\n",
        "    1: [(\"The membranes that separate the different regions of the mitochondria and chloroplast are important because they help to separate the enzymes of these organelles so that they don't interfere with the other reactions inside the cell.\", 1),\n",
        "         (\"The inner membranes of energy-producing organelles such as the mitochondria in Animal cells and the chloroplasts in plant cells are important for cellular processes because they produce ATP which powers the cell, essentially powering the body.\", 0)],\n",
        "    2: [(\"The folding of the mitochondrial inner membrane and thylakoids are beneficial to the cell carrying out chemical reactions because these folds help to increase the size of the cell and increase the SA: VA Ratio and thus help improve the rate at which the chemical reactions take place.\", 1),\n",
        "         (\"This is beneficial to cells carrying out chemical reactions because the inner membranes of power-producing organelles help power those chemical reactions. Without the inner membranes functioning all processes would cease. \", 0)],\n",
        "}"
      ],
      "cell_type": "code",
      "metadata": {
        "id": "H2Ex_ycfebiz"
      },
      "execution_count": null,
      "outputs": []
    },
    {
      "cell_type": "code",
      "source": [
        "#"
      ],
      "metadata": {
        "id": "Hp9gK5uUGnkE"
      },
      "execution_count": null,
      "outputs": []
    }
  ]
}